{
 "cells": [
  {
   "cell_type": "code",
   "execution_count": 26,
   "metadata": {
    "scrolled": false
   },
   "outputs": [
    {
     "data": {
      "application/vnd.plotly.v1+json": {
       "config": {
        "plotlyServerURL": "https://plot.ly"
       },
       "data": [
        {
         "customdata": [
          [
           7856605,
           215887,
           3124593,
           "US"
          ],
          [
           7175880,
           109856,
           6227295,
           "India"
          ],
          [
           5113628,
           150998,
           4526393,
           "Brazil"
          ],
          [
           1318783,
           22834,
           1027348,
           "Russia"
          ],
          [
           924098,
           28141,
           806703,
           "Colombia"
          ],
          [
           917035,
           24572,
           742235,
           "Argentina"
          ],
          [
           896086,
           33204,
           150376,
           "Spain"
          ],
          [
           853974,
           33419,
           748097,
           "Peru"
          ],
          [
           825340,
           84420,
           703457,
           "Mexico"
          ],
          [
           798257,
           32982,
           105203,
           "France"
          ],
          [
           694537,
           18028,
           625574,
           "South Africa"
          ],
          [
           637708,
           43108,
           2535,
           "United Kingdom"
          ],
          [
           508389,
           29070,
           411840,
           "Iran"
          ],
          [
           484280,
           13396,
           456499,
           "Chile"
          ],
          [
           409358,
           9970,
           344208,
           "Iraq"
          ],
          [
           381275,
           5577,
           295873,
           "Bangladesh"
          ],
          [
           365467,
           36246,
           242028,
           "Italy"
          ],
          [
           344713,
           6372,
           293383,
           "Philippines"
          ],
          [
           340622,
           12027,
           263296,
           "Indonesia"
          ],
          [
           340089,
           5087,
           326339,
           "Saudi Arabia"
          ],
          [
           338779,
           8957,
           296972,
           "Turkey"
          ],
          [
           337314,
           9682,
           280533,
           "Germany"
          ],
          [
           320463,
           6601,
           305080,
           "Pakistan"
          ],
          [
           296652,
           2055,
           245811,
           "Israel"
          ],
          [
           277982,
           5254,
           120999,
           "Ukraine"
          ],
          [
           194591,
           6689,
           4915,
           "Netherlands"
          ],
          [
           189489,
           9707,
           160223,
           "Canada"
          ],
          [
           173240,
           10244,
           20452,
           "Belgium"
          ],
          [
           160461,
           5535,
           120515,
           "Romania"
          ],
          [
           156946,
           2685,
           131462,
           "Morocco"
          ],
          [
           148171,
           12235,
           128134,
           "Ecuador"
          ],
          [
           138922,
           8351,
           102083,
           "Bolivia"
          ],
          [
           135278,
           3101,
           82004,
           "Poland"
          ],
          [
           129747,
           1106,
           59901,
           "Czechia"
          ],
          [
           128405,
           220,
           125373,
           "Qatar"
          ],
          [
           121296,
           2511,
           97297,
           "Panama"
          ],
          [
           119008,
           2183,
           94941,
           "Dominican Republic"
          ],
          [
           115358,
           663,
           78780,
           "Nepal"
          ],
          [
           112737,
           672,
           104508,
           "Kuwait"
          ],
          [
           108984,
           1768,
           104346,
           "Kazakhstan"
          ],
          [
           108608,
           448,
           100007,
           "United Arab Emirates"
          ],
          [
           107213,
           1053,
           93557,
           "Oman"
          ],
          [
           104787,
           6071,
           97841,
           "Egypt"
          ],
          [
           100654,
           5899,
           0,
           "Sweden"
          ],
          [
           98380,
           3410,
           87744,
           "Guatemala"
          ],
          [
           90858,
           4739,
           85707,
           "China"
          ],
          [
           90238,
           1124,
           53670,
           "Costa Rica"
          ],
          [
           90153,
           1635,
           82063,
           "Japan"
          ],
          [
           89121,
           2110,
           54047,
           "Portugal"
          ],
          [
           85718,
           1305,
           39307,
           "Ethiopia"
          ],
          [
           84852,
           2528,
           32772,
           "Honduras"
          ],
          [
           84524,
           906,
           77797,
           "Belarus"
          ],
          [
           84391,
           710,
           76262,
           "Venezuela"
          ],
          [
           76272,
           285,
           72164,
           "Bahrain"
          ],
          [
           65881,
           2103,
           49800,
           "Switzerland"
          ],
          [
           63275,
           1495,
           45102,
           "Moldova"
          ],
          [
           61642,
           511,
           58613,
           "Uzbekistan"
          ],
          [
           60655,
           1116,
           52006,
           "Nigeria"
          ],
          [
           57884,
           28,
           57740,
           "Singapore"
          ],
          [
           57566,
           1032,
           46318,
           "Armenia"
          ],
          [
           57326,
           861,
           44949,
           "Austria"
          ],
          [
           55869,
           479,
           24581,
           "Lebanon"
          ],
          [
           53399,
           1818,
           37492,
           "Algeria"
          ],
          [
           51197,
           1108,
           33325,
           "Paraguay"
          ],
          [
           49871,
           1092,
           44712,
           "Kyrgyzstan"
          ],
          [
           47126,
           310,
           46469,
           "Ghana"
          ],
          [
           45200,
           391,
           38841,
           "West Bank and Gaza"
          ],
          [
           44985,
           656,
           25007,
           "Libya"
          ],
          [
           44159,
           1830,
           23364,
           "Ireland"
          ],
          [
           42381,
           612,
           39468,
           "Azerbaijan"
          ],
          [
           41937,
           787,
           31340,
           "Kenya"
          ],
          [
           39928,
           1480,
           33308,
           "Afghanistan"
          ],
          [
           39862,
           996,
           11753,
           "Hungary"
          ],
          [
           35006,
           767,
           0,
           "Serbia"
          ],
          [
           33594,
           674,
           27704,
           "Denmark"
          ],
          [
           32556,
           478,
           5032,
           "Tunisia"
          ],
          [
           31173,
           947,
           23777,
           "Bosnia and Herzegovina"
          ],
          [
           30480,
           899,
           25857,
           "El Salvador"
          ],
          [
           30437,
           693,
           11769,
           "Burma"
          ],
          [
           28127,
           225,
           6361,
           "Jordan"
          ],
          [
           27337,
           904,
           25046,
           "Australia"
          ],
          [
           25774,
           923,
           16139,
           "Bulgaria"
          ],
          [
           24889,
           438,
           23030,
           "Korea, South"
          ],
          [
           23060,
           462,
           1347,
           "Greece"
          ],
          [
           21203,
           423,
           20117,
           "Cameroon"
          ],
          [
           21193,
           800,
           16397,
           "North Macedonia"
          ],
          [
           20993,
           330,
           17889,
           "Croatia"
          ],
          [
           20886,
           61,
           6388,
           "Slovakia"
          ],
          [
           20183,
           120,
           19860,
           "Cote d'Ivoire"
          ],
          [
           16880,
           163,
           11372,
           "Malaysia"
          ],
          [
           16754,
           237,
           16124,
           "Madagascar"
          ],
          [
           16345,
           649,
           14405,
           "Kosovo"
          ],
          [
           15793,
           277,
           11863,
           "Norway"
          ],
          [
           15752,
           429,
           9675,
           "Albania"
          ],
          [
           15587,
           345,
           14783,
           "Zambia"
          ],
          [
           15307,
           315,
           13508,
           "Senegal"
          ],
          [
           14268,
           213,
           10063,
           "Montenegro"
          ],
          [
           13691,
           836,
           6764,
           "Sudan"
          ],
          [
           12841,
           102,
           6867,
           "Georgia"
          ],
          [
           12499,
           346,
           8500,
           "Finland"
          ],
          [
           12000,
           129,
           10120,
           "Namibia"
          ],
          [
           11134,
           70,
           10347,
           "Guinea"
          ],
          [
           10993,
           35,
           9833,
           "Maldives"
          ],
          [
           10872,
           276,
           10249,
           "Congo (Kinshasa)"
          ],
          [
           10297,
           79,
           9177,
           "Tajikistan"
          ],
          [
           10258,
           73,
           7880,
           "Mozambique"
          ],
          [
           9945,
           95,
           6347,
           "Uganda"
          ],
          [
           9231,
           173,
           5314,
           "Slovenia"
          ],
          [
           9119,
           128,
           7900,
           "Luxembourg"
          ],
          [
           8887,
           230,
           7140,
           "Haiti"
          ],
          [
           8860,
           54,
           8298,
           "Gabon"
          ],
          [
           8036,
           230,
           7632,
           "Zimbabwe"
          ],
          [
           7910,
           146,
           3303,
           "Jamaica"
          ],
          [
           7565,
           163,
           7301,
           "Mauritania"
          ],
          [
           7254,
           77,
           6210,
           "Cabo Verde"
          ],
          [
           6680,
           222,
           2761,
           "Angola"
          ],
          [
           6366,
           106,
           2842,
           "Lithuania"
          ],
          [
           6017,
           123,
           5602,
           "Cuba"
          ],
          [
           5827,
           181,
           4688,
           "Malawi"
          ],
          [
           5696,
           114,
           5337,
           "Eswatini"
          ],
          [
           5428,
           61,
           5362,
           "Djibouti"
          ],
          [
           5353,
           154,
           4225,
           "Nicaragua"
          ],
          [
           5163,
           108,
           2978,
           "Bahamas"
          ],
          [
           5127,
           93,
           3367,
           "Trinidad and Tobago"
          ],
          [
           5118,
           90,
           3887,
           "Congo (Brazzaville)"
          ],
          [
           5072,
           107,
           4870,
           "Suriname"
          ],
          [
           5066,
           83,
           4954,
           "Equatorial Guinea"
          ],
          [
           5038,
           13,
           3328,
           "Sri Lanka"
          ],
          [
           4908,
           32,
           4130,
           "Rwanda"
          ],
          [
           4854,
           62,
           1924,
           "Central African Republic"
          ],
          [
           4826,
           231,
           1364,
           "Syria"
          ],
          [
           3937,
           44,
           3012,
           "Malta"
          ],
          [
           3908,
           68,
           3015,
           "Estonia"
          ],
          [
           3864,
           99,
           3089,
           "Somalia"
          ],
          [
           3668,
           10,
           2587,
           "Iceland"
          ],
          [
           3652,
           59,
           3457,
           "Thailand"
          ],
          [
           3636,
           118,
           2593,
           "Gambia"
          ],
          [
           3565,
           106,
           2435,
           "Guyana"
          ],
          [
           3515,
           20,
           853,
           "Botswana"
          ],
          [
           3297,
           132,
           2544,
           "Mali"
          ],
          [
           2995,
           57,
           1928,
           "Andorra"
          ],
          [
           2840,
           41,
           1325,
           "Latvia"
          ],
          [
           2798,
           55,
           1290,
           "South Sudan"
          ],
          [
           2585,
           39,
           1580,
           "Belize"
          ],
          [
           2411,
           41,
           1973,
           "Benin"
          ],
          [
           2389,
           41,
           1782,
           "Guinea-Bissau"
          ],
          [
           2337,
           51,
           1987,
           "Uruguay"
          ],
          [
           2309,
           72,
           1738,
           "Sierra Leone"
          ],
          [
           2305,
           63,
           1581,
           "Burkina Faso"
          ],
          [
           2130,
           25,
           1444,
           "Cyprus"
          ],
          [
           2053,
           596,
           1329,
           "Yemen"
          ],
          [
           1972,
           50,
           1465,
           "Togo"
          ],
          [
           1874,
           25,
           1809,
           "New Zealand"
          ],
          [
           1822,
           42,
           961,
           "Lesotho"
          ],
          [
           1371,
           82,
           1251,
           "Liberia"
          ],
          [
           1321,
           92,
           1120,
           "Chad"
          ],
          [
           1203,
           69,
           1124,
           "Niger"
          ],
          [
           1113,
           35,
           1025,
           "Vietnam"
          ],
          [
           929,
           15,
           895,
           "Sao Tome and Principe"
          ],
          [
           741,
           42,
           682,
           "San Marino"
          ],
          [
           712,
           13,
           659,
           "Diamond Princess"
          ],
          [
           565,
           7,
           537,
           "Papua New Guinea"
          ],
          [
           530,
           7,
           489,
           "Taiwan*"
          ],
          [
           529,
           1,
           472,
           "Burundi"
          ],
          [
           509,
           21,
           183,
           "Tanzania"
          ],
          [
           496,
           7,
           484,
           "Comoros"
          ],
          [
           414,
           0,
           372,
           "Eritrea"
          ],
          [
           407,
           10,
           361,
           "Mauritius"
          ],
          [
           320,
           0,
           311,
           "Mongolia"
          ],
          [
           313,
           0,
           293,
           "Bhutan"
          ],
          [
           283,
           0,
           278,
           "Cambodia"
          ],
          [
           241,
           2,
           217,
           "Monaco"
          ],
          [
           210,
           7,
           187,
           "Barbados"
          ],
          [
           163,
           1,
           128,
           "Liechtenstein"
          ],
          [
           148,
           0,
           144,
           "Seychelles"
          ],
          [
           146,
           3,
           143,
           "Brunei"
          ],
          [
           111,
           3,
           97,
           "Antigua and Barbuda"
          ],
          [
           64,
           0,
           64,
           "Saint Vincent and the Grenadines"
          ],
          [
           32,
           0,
           24,
           "Dominica"
          ],
          [
           32,
           2,
           30,
           "Fiji"
          ],
          [
           29,
           0,
           27,
           "Saint Lucia"
          ],
          [
           29,
           0,
           28,
           "Timor-Leste"
          ],
          [
           25,
           0,
           24,
           "Grenada"
          ],
          [
           23,
           0,
           22,
           "Laos"
          ],
          [
           19,
           0,
           12,
           "Holy See"
          ],
          [
           19,
           0,
           19,
           "Saint Kitts and Nevis"
          ],
          [
           10,
           1,
           8,
           "Western Sahara"
          ],
          [
           9,
           2,
           0,
           "MS Zaandam"
          ],
          [
           2,
           0,
           0,
           "Solomon Islands"
          ]
         ],
         "geo": "geo",
         "hovertemplate": "<b>%{hovertext}</b><br><br>Confirmed=%{marker.color:,2f}<br>Deaths=%{customdata[1]:,2f}<br>Recovered=%{customdata[2]:,2f}<extra></extra>",
         "hovertext": [
          "US",
          "India",
          "Brazil",
          "Russia",
          "Colombia",
          "Argentina",
          "Spain",
          "Peru",
          "Mexico",
          "France",
          "South Africa",
          "United Kingdom",
          "Iran",
          "Chile",
          "Iraq",
          "Bangladesh",
          "Italy",
          "Philippines",
          "Indonesia",
          "Saudi Arabia",
          "Turkey",
          "Germany",
          "Pakistan",
          "Israel",
          "Ukraine",
          "Netherlands",
          "Canada",
          "Belgium",
          "Romania",
          "Morocco",
          "Ecuador",
          "Bolivia",
          "Poland",
          "Czechia",
          "Qatar",
          "Panama",
          "Dominican Republic",
          "Nepal",
          "Kuwait",
          "Kazakhstan",
          "United Arab Emirates",
          "Oman",
          "Egypt",
          "Sweden",
          "Guatemala",
          "China",
          "Costa Rica",
          "Japan",
          "Portugal",
          "Ethiopia",
          "Honduras",
          "Belarus",
          "Venezuela",
          "Bahrain",
          "Switzerland",
          "Moldova",
          "Uzbekistan",
          "Nigeria",
          "Singapore",
          "Armenia",
          "Austria",
          "Lebanon",
          "Algeria",
          "Paraguay",
          "Kyrgyzstan",
          "Ghana",
          "West Bank and Gaza",
          "Libya",
          "Ireland",
          "Azerbaijan",
          "Kenya",
          "Afghanistan",
          "Hungary",
          "Serbia",
          "Denmark",
          "Tunisia",
          "Bosnia and Herzegovina",
          "El Salvador",
          "Burma",
          "Jordan",
          "Australia",
          "Bulgaria",
          "Korea, South",
          "Greece",
          "Cameroon",
          "North Macedonia",
          "Croatia",
          "Slovakia",
          "Cote d'Ivoire",
          "Malaysia",
          "Madagascar",
          "Kosovo",
          "Norway",
          "Albania",
          "Zambia",
          "Senegal",
          "Montenegro",
          "Sudan",
          "Georgia",
          "Finland",
          "Namibia",
          "Guinea",
          "Maldives",
          "Congo (Kinshasa)",
          "Tajikistan",
          "Mozambique",
          "Uganda",
          "Slovenia",
          "Luxembourg",
          "Haiti",
          "Gabon",
          "Zimbabwe",
          "Jamaica",
          "Mauritania",
          "Cabo Verde",
          "Angola",
          "Lithuania",
          "Cuba",
          "Malawi",
          "Eswatini",
          "Djibouti",
          "Nicaragua",
          "Bahamas",
          "Trinidad and Tobago",
          "Congo (Brazzaville)",
          "Suriname",
          "Equatorial Guinea",
          "Sri Lanka",
          "Rwanda",
          "Central African Republic",
          "Syria",
          "Malta",
          "Estonia",
          "Somalia",
          "Iceland",
          "Thailand",
          "Gambia",
          "Guyana",
          "Botswana",
          "Mali",
          "Andorra",
          "Latvia",
          "South Sudan",
          "Belize",
          "Benin",
          "Guinea-Bissau",
          "Uruguay",
          "Sierra Leone",
          "Burkina Faso",
          "Cyprus",
          "Yemen",
          "Togo",
          "New Zealand",
          "Lesotho",
          "Liberia",
          "Chad",
          "Niger",
          "Vietnam",
          "Sao Tome and Principe",
          "San Marino",
          "Diamond Princess",
          "Papua New Guinea",
          "Taiwan*",
          "Burundi",
          "Tanzania",
          "Comoros",
          "Eritrea",
          "Mauritius",
          "Mongolia",
          "Bhutan",
          "Cambodia",
          "Monaco",
          "Barbados",
          "Liechtenstein",
          "Seychelles",
          "Brunei",
          "Antigua and Barbuda",
          "Saint Vincent and the Grenadines",
          "Dominica",
          "Fiji",
          "Saint Lucia",
          "Timor-Leste",
          "Grenada",
          "Laos",
          "Holy See",
          "Saint Kitts and Nevis",
          "Western Sahara",
          "MS Zaandam",
          "Solomon Islands"
         ],
         "legendgroup": "",
         "locationmode": "country names",
         "locations": [
          "US",
          "India",
          "Brazil",
          "Russia",
          "Colombia",
          "Argentina",
          "Spain",
          "Peru",
          "Mexico",
          "France",
          "South Africa",
          "United Kingdom",
          "Iran",
          "Chile",
          "Iraq",
          "Bangladesh",
          "Italy",
          "Philippines",
          "Indonesia",
          "Saudi Arabia",
          "Turkey",
          "Germany",
          "Pakistan",
          "Israel",
          "Ukraine",
          "Netherlands",
          "Canada",
          "Belgium",
          "Romania",
          "Morocco",
          "Ecuador",
          "Bolivia",
          "Poland",
          "Czechia",
          "Qatar",
          "Panama",
          "Dominican Republic",
          "Nepal",
          "Kuwait",
          "Kazakhstan",
          "United Arab Emirates",
          "Oman",
          "Egypt",
          "Sweden",
          "Guatemala",
          "China",
          "Costa Rica",
          "Japan",
          "Portugal",
          "Ethiopia",
          "Honduras",
          "Belarus",
          "Venezuela",
          "Bahrain",
          "Switzerland",
          "Moldova",
          "Uzbekistan",
          "Nigeria",
          "Singapore",
          "Armenia",
          "Austria",
          "Lebanon",
          "Algeria",
          "Paraguay",
          "Kyrgyzstan",
          "Ghana",
          "West Bank and Gaza",
          "Libya",
          "Ireland",
          "Azerbaijan",
          "Kenya",
          "Afghanistan",
          "Hungary",
          "Serbia",
          "Denmark",
          "Tunisia",
          "Bosnia and Herzegovina",
          "El Salvador",
          "Burma",
          "Jordan",
          "Australia",
          "Bulgaria",
          "Korea, South",
          "Greece",
          "Cameroon",
          "North Macedonia",
          "Croatia",
          "Slovakia",
          "Cote d'Ivoire",
          "Malaysia",
          "Madagascar",
          "Kosovo",
          "Norway",
          "Albania",
          "Zambia",
          "Senegal",
          "Montenegro",
          "Sudan",
          "Georgia",
          "Finland",
          "Namibia",
          "Guinea",
          "Maldives",
          "Congo (Kinshasa)",
          "Tajikistan",
          "Mozambique",
          "Uganda",
          "Slovenia",
          "Luxembourg",
          "Haiti",
          "Gabon",
          "Zimbabwe",
          "Jamaica",
          "Mauritania",
          "Cabo Verde",
          "Angola",
          "Lithuania",
          "Cuba",
          "Malawi",
          "Eswatini",
          "Djibouti",
          "Nicaragua",
          "Bahamas",
          "Trinidad and Tobago",
          "Congo (Brazzaville)",
          "Suriname",
          "Equatorial Guinea",
          "Sri Lanka",
          "Rwanda",
          "Central African Republic",
          "Syria",
          "Malta",
          "Estonia",
          "Somalia",
          "Iceland",
          "Thailand",
          "Gambia",
          "Guyana",
          "Botswana",
          "Mali",
          "Andorra",
          "Latvia",
          "South Sudan",
          "Belize",
          "Benin",
          "Guinea-Bissau",
          "Uruguay",
          "Sierra Leone",
          "Burkina Faso",
          "Cyprus",
          "Yemen",
          "Togo",
          "New Zealand",
          "Lesotho",
          "Liberia",
          "Chad",
          "Niger",
          "Vietnam",
          "Sao Tome and Principe",
          "San Marino",
          "Diamond Princess",
          "Papua New Guinea",
          "Taiwan*",
          "Burundi",
          "Tanzania",
          "Comoros",
          "Eritrea",
          "Mauritius",
          "Mongolia",
          "Bhutan",
          "Cambodia",
          "Monaco",
          "Barbados",
          "Liechtenstein",
          "Seychelles",
          "Brunei",
          "Antigua and Barbuda",
          "Saint Vincent and the Grenadines",
          "Dominica",
          "Fiji",
          "Saint Lucia",
          "Timor-Leste",
          "Grenada",
          "Laos",
          "Holy See",
          "Saint Kitts and Nevis",
          "Western Sahara",
          "MS Zaandam",
          "Solomon Islands"
         ],
         "marker": {
          "color": [
           7856605,
           7175880,
           5113628,
           1318783,
           924098,
           917035,
           896086,
           853974,
           825340,
           798257,
           694537,
           637708,
           508389,
           484280,
           409358,
           381275,
           365467,
           344713,
           340622,
           340089,
           338779,
           337314,
           320463,
           296652,
           277982,
           194591,
           189489,
           173240,
           160461,
           156946,
           148171,
           138922,
           135278,
           129747,
           128405,
           121296,
           119008,
           115358,
           112737,
           108984,
           108608,
           107213,
           104787,
           100654,
           98380,
           90858,
           90238,
           90153,
           89121,
           85718,
           84852,
           84524,
           84391,
           76272,
           65881,
           63275,
           61642,
           60655,
           57884,
           57566,
           57326,
           55869,
           53399,
           51197,
           49871,
           47126,
           45200,
           44985,
           44159,
           42381,
           41937,
           39928,
           39862,
           35006,
           33594,
           32556,
           31173,
           30480,
           30437,
           28127,
           27337,
           25774,
           24889,
           23060,
           21203,
           21193,
           20993,
           20886,
           20183,
           16880,
           16754,
           16345,
           15793,
           15752,
           15587,
           15307,
           14268,
           13691,
           12841,
           12499,
           12000,
           11134,
           10993,
           10872,
           10297,
           10258,
           9945,
           9231,
           9119,
           8887,
           8860,
           8036,
           7910,
           7565,
           7254,
           6680,
           6366,
           6017,
           5827,
           5696,
           5428,
           5353,
           5163,
           5127,
           5118,
           5072,
           5066,
           5038,
           4908,
           4854,
           4826,
           3937,
           3908,
           3864,
           3668,
           3652,
           3636,
           3565,
           3515,
           3297,
           2995,
           2840,
           2798,
           2585,
           2411,
           2389,
           2337,
           2309,
           2305,
           2130,
           2053,
           1972,
           1874,
           1822,
           1371,
           1321,
           1203,
           1113,
           929,
           741,
           712,
           565,
           530,
           529,
           509,
           496,
           414,
           407,
           320,
           313,
           283,
           241,
           210,
           163,
           148,
           146,
           111,
           64,
           32,
           32,
           29,
           29,
           25,
           23,
           19,
           19,
           10,
           9,
           2
          ],
          "coloraxis": "coloraxis",
          "size": [
           7856605,
           7175880,
           5113628,
           1318783,
           924098,
           917035,
           896086,
           853974,
           825340,
           798257,
           694537,
           637708,
           508389,
           484280,
           409358,
           381275,
           365467,
           344713,
           340622,
           340089,
           338779,
           337314,
           320463,
           296652,
           277982,
           194591,
           189489,
           173240,
           160461,
           156946,
           148171,
           138922,
           135278,
           129747,
           128405,
           121296,
           119008,
           115358,
           112737,
           108984,
           108608,
           107213,
           104787,
           100654,
           98380,
           90858,
           90238,
           90153,
           89121,
           85718,
           84852,
           84524,
           84391,
           76272,
           65881,
           63275,
           61642,
           60655,
           57884,
           57566,
           57326,
           55869,
           53399,
           51197,
           49871,
           47126,
           45200,
           44985,
           44159,
           42381,
           41937,
           39928,
           39862,
           35006,
           33594,
           32556,
           31173,
           30480,
           30437,
           28127,
           27337,
           25774,
           24889,
           23060,
           21203,
           21193,
           20993,
           20886,
           20183,
           16880,
           16754,
           16345,
           15793,
           15752,
           15587,
           15307,
           14268,
           13691,
           12841,
           12499,
           12000,
           11134,
           10993,
           10872,
           10297,
           10258,
           9945,
           9231,
           9119,
           8887,
           8860,
           8036,
           7910,
           7565,
           7254,
           6680,
           6366,
           6017,
           5827,
           5696,
           5428,
           5353,
           5163,
           5127,
           5118,
           5072,
           5066,
           5038,
           4908,
           4854,
           4826,
           3937,
           3908,
           3864,
           3668,
           3652,
           3636,
           3565,
           3515,
           3297,
           2995,
           2840,
           2798,
           2585,
           2411,
           2389,
           2337,
           2309,
           2305,
           2130,
           2053,
           1972,
           1874,
           1822,
           1371,
           1321,
           1203,
           1113,
           929,
           741,
           712,
           565,
           530,
           529,
           509,
           496,
           414,
           407,
           320,
           313,
           283,
           241,
           210,
           163,
           148,
           146,
           111,
           64,
           32,
           32,
           29,
           29,
           25,
           23,
           19,
           19,
           10,
           9,
           2
          ],
          "sizemode": "area",
          "sizeref": 4910.378125
         },
         "name": "",
         "showlegend": false,
         "type": "scattergeo"
        }
       ],
       "layout": {
        "coloraxis": {
         "colorbar": {
          "title": {
           "text": "Confirmed"
          }
         },
         "colorscale": [
          [
           0,
           "#0d0887"
          ],
          [
           0.1111111111111111,
           "#46039f"
          ],
          [
           0.2222222222222222,
           "#7201a8"
          ],
          [
           0.3333333333333333,
           "#9c179e"
          ],
          [
           0.4444444444444444,
           "#bd3786"
          ],
          [
           0.5555555555555556,
           "#d8576b"
          ],
          [
           0.6666666666666666,
           "#ed7953"
          ],
          [
           0.7777777777777778,
           "#fb9f3a"
          ],
          [
           0.8888888888888888,
           "#fdca26"
          ],
          [
           1,
           "#f0f921"
          ]
         ]
        },
        "geo": {
         "center": {},
         "domain": {
          "x": [
           0,
           1
          ],
          "y": [
           0,
           1
          ]
         }
        },
        "legend": {
         "itemsizing": "constant",
         "tracegroupgap": 0
        },
        "margin": {
         "t": 60
        },
        "template": {
         "data": {
          "bar": [
           {
            "error_x": {
             "color": "#f2f5fa"
            },
            "error_y": {
             "color": "#f2f5fa"
            },
            "marker": {
             "line": {
              "color": "rgb(17,17,17)",
              "width": 0.5
             }
            },
            "type": "bar"
           }
          ],
          "barpolar": [
           {
            "marker": {
             "line": {
              "color": "rgb(17,17,17)",
              "width": 0.5
             }
            },
            "type": "barpolar"
           }
          ],
          "carpet": [
           {
            "aaxis": {
             "endlinecolor": "#A2B1C6",
             "gridcolor": "#506784",
             "linecolor": "#506784",
             "minorgridcolor": "#506784",
             "startlinecolor": "#A2B1C6"
            },
            "baxis": {
             "endlinecolor": "#A2B1C6",
             "gridcolor": "#506784",
             "linecolor": "#506784",
             "minorgridcolor": "#506784",
             "startlinecolor": "#A2B1C6"
            },
            "type": "carpet"
           }
          ],
          "choropleth": [
           {
            "colorbar": {
             "outlinewidth": 0,
             "ticks": ""
            },
            "type": "choropleth"
           }
          ],
          "contour": [
           {
            "colorbar": {
             "outlinewidth": 0,
             "ticks": ""
            },
            "colorscale": [
             [
              0,
              "#0d0887"
             ],
             [
              0.1111111111111111,
              "#46039f"
             ],
             [
              0.2222222222222222,
              "#7201a8"
             ],
             [
              0.3333333333333333,
              "#9c179e"
             ],
             [
              0.4444444444444444,
              "#bd3786"
             ],
             [
              0.5555555555555556,
              "#d8576b"
             ],
             [
              0.6666666666666666,
              "#ed7953"
             ],
             [
              0.7777777777777778,
              "#fb9f3a"
             ],
             [
              0.8888888888888888,
              "#fdca26"
             ],
             [
              1,
              "#f0f921"
             ]
            ],
            "type": "contour"
           }
          ],
          "contourcarpet": [
           {
            "colorbar": {
             "outlinewidth": 0,
             "ticks": ""
            },
            "type": "contourcarpet"
           }
          ],
          "heatmap": [
           {
            "colorbar": {
             "outlinewidth": 0,
             "ticks": ""
            },
            "colorscale": [
             [
              0,
              "#0d0887"
             ],
             [
              0.1111111111111111,
              "#46039f"
             ],
             [
              0.2222222222222222,
              "#7201a8"
             ],
             [
              0.3333333333333333,
              "#9c179e"
             ],
             [
              0.4444444444444444,
              "#bd3786"
             ],
             [
              0.5555555555555556,
              "#d8576b"
             ],
             [
              0.6666666666666666,
              "#ed7953"
             ],
             [
              0.7777777777777778,
              "#fb9f3a"
             ],
             [
              0.8888888888888888,
              "#fdca26"
             ],
             [
              1,
              "#f0f921"
             ]
            ],
            "type": "heatmap"
           }
          ],
          "heatmapgl": [
           {
            "colorbar": {
             "outlinewidth": 0,
             "ticks": ""
            },
            "colorscale": [
             [
              0,
              "#0d0887"
             ],
             [
              0.1111111111111111,
              "#46039f"
             ],
             [
              0.2222222222222222,
              "#7201a8"
             ],
             [
              0.3333333333333333,
              "#9c179e"
             ],
             [
              0.4444444444444444,
              "#bd3786"
             ],
             [
              0.5555555555555556,
              "#d8576b"
             ],
             [
              0.6666666666666666,
              "#ed7953"
             ],
             [
              0.7777777777777778,
              "#fb9f3a"
             ],
             [
              0.8888888888888888,
              "#fdca26"
             ],
             [
              1,
              "#f0f921"
             ]
            ],
            "type": "heatmapgl"
           }
          ],
          "histogram": [
           {
            "marker": {
             "colorbar": {
              "outlinewidth": 0,
              "ticks": ""
             }
            },
            "type": "histogram"
           }
          ],
          "histogram2d": [
           {
            "colorbar": {
             "outlinewidth": 0,
             "ticks": ""
            },
            "colorscale": [
             [
              0,
              "#0d0887"
             ],
             [
              0.1111111111111111,
              "#46039f"
             ],
             [
              0.2222222222222222,
              "#7201a8"
             ],
             [
              0.3333333333333333,
              "#9c179e"
             ],
             [
              0.4444444444444444,
              "#bd3786"
             ],
             [
              0.5555555555555556,
              "#d8576b"
             ],
             [
              0.6666666666666666,
              "#ed7953"
             ],
             [
              0.7777777777777778,
              "#fb9f3a"
             ],
             [
              0.8888888888888888,
              "#fdca26"
             ],
             [
              1,
              "#f0f921"
             ]
            ],
            "type": "histogram2d"
           }
          ],
          "histogram2dcontour": [
           {
            "colorbar": {
             "outlinewidth": 0,
             "ticks": ""
            },
            "colorscale": [
             [
              0,
              "#0d0887"
             ],
             [
              0.1111111111111111,
              "#46039f"
             ],
             [
              0.2222222222222222,
              "#7201a8"
             ],
             [
              0.3333333333333333,
              "#9c179e"
             ],
             [
              0.4444444444444444,
              "#bd3786"
             ],
             [
              0.5555555555555556,
              "#d8576b"
             ],
             [
              0.6666666666666666,
              "#ed7953"
             ],
             [
              0.7777777777777778,
              "#fb9f3a"
             ],
             [
              0.8888888888888888,
              "#fdca26"
             ],
             [
              1,
              "#f0f921"
             ]
            ],
            "type": "histogram2dcontour"
           }
          ],
          "mesh3d": [
           {
            "colorbar": {
             "outlinewidth": 0,
             "ticks": ""
            },
            "type": "mesh3d"
           }
          ],
          "parcoords": [
           {
            "line": {
             "colorbar": {
              "outlinewidth": 0,
              "ticks": ""
             }
            },
            "type": "parcoords"
           }
          ],
          "pie": [
           {
            "automargin": true,
            "type": "pie"
           }
          ],
          "scatter": [
           {
            "marker": {
             "line": {
              "color": "#283442"
             }
            },
            "type": "scatter"
           }
          ],
          "scatter3d": [
           {
            "line": {
             "colorbar": {
              "outlinewidth": 0,
              "ticks": ""
             }
            },
            "marker": {
             "colorbar": {
              "outlinewidth": 0,
              "ticks": ""
             }
            },
            "type": "scatter3d"
           }
          ],
          "scattercarpet": [
           {
            "marker": {
             "colorbar": {
              "outlinewidth": 0,
              "ticks": ""
             }
            },
            "type": "scattercarpet"
           }
          ],
          "scattergeo": [
           {
            "marker": {
             "colorbar": {
              "outlinewidth": 0,
              "ticks": ""
             }
            },
            "type": "scattergeo"
           }
          ],
          "scattergl": [
           {
            "marker": {
             "line": {
              "color": "#283442"
             }
            },
            "type": "scattergl"
           }
          ],
          "scattermapbox": [
           {
            "marker": {
             "colorbar": {
              "outlinewidth": 0,
              "ticks": ""
             }
            },
            "type": "scattermapbox"
           }
          ],
          "scatterpolar": [
           {
            "marker": {
             "colorbar": {
              "outlinewidth": 0,
              "ticks": ""
             }
            },
            "type": "scatterpolar"
           }
          ],
          "scatterpolargl": [
           {
            "marker": {
             "colorbar": {
              "outlinewidth": 0,
              "ticks": ""
             }
            },
            "type": "scatterpolargl"
           }
          ],
          "scatterternary": [
           {
            "marker": {
             "colorbar": {
              "outlinewidth": 0,
              "ticks": ""
             }
            },
            "type": "scatterternary"
           }
          ],
          "surface": [
           {
            "colorbar": {
             "outlinewidth": 0,
             "ticks": ""
            },
            "colorscale": [
             [
              0,
              "#0d0887"
             ],
             [
              0.1111111111111111,
              "#46039f"
             ],
             [
              0.2222222222222222,
              "#7201a8"
             ],
             [
              0.3333333333333333,
              "#9c179e"
             ],
             [
              0.4444444444444444,
              "#bd3786"
             ],
             [
              0.5555555555555556,
              "#d8576b"
             ],
             [
              0.6666666666666666,
              "#ed7953"
             ],
             [
              0.7777777777777778,
              "#fb9f3a"
             ],
             [
              0.8888888888888888,
              "#fdca26"
             ],
             [
              1,
              "#f0f921"
             ]
            ],
            "type": "surface"
           }
          ],
          "table": [
           {
            "cells": {
             "fill": {
              "color": "#506784"
             },
             "line": {
              "color": "rgb(17,17,17)"
             }
            },
            "header": {
             "fill": {
              "color": "#2a3f5f"
             },
             "line": {
              "color": "rgb(17,17,17)"
             }
            },
            "type": "table"
           }
          ]
         },
         "layout": {
          "annotationdefaults": {
           "arrowcolor": "#f2f5fa",
           "arrowhead": 0,
           "arrowwidth": 1
          },
          "coloraxis": {
           "colorbar": {
            "outlinewidth": 0,
            "ticks": ""
           }
          },
          "colorscale": {
           "diverging": [
            [
             0,
             "#8e0152"
            ],
            [
             0.1,
             "#c51b7d"
            ],
            [
             0.2,
             "#de77ae"
            ],
            [
             0.3,
             "#f1b6da"
            ],
            [
             0.4,
             "#fde0ef"
            ],
            [
             0.5,
             "#f7f7f7"
            ],
            [
             0.6,
             "#e6f5d0"
            ],
            [
             0.7,
             "#b8e186"
            ],
            [
             0.8,
             "#7fbc41"
            ],
            [
             0.9,
             "#4d9221"
            ],
            [
             1,
             "#276419"
            ]
           ],
           "sequential": [
            [
             0,
             "#0d0887"
            ],
            [
             0.1111111111111111,
             "#46039f"
            ],
            [
             0.2222222222222222,
             "#7201a8"
            ],
            [
             0.3333333333333333,
             "#9c179e"
            ],
            [
             0.4444444444444444,
             "#bd3786"
            ],
            [
             0.5555555555555556,
             "#d8576b"
            ],
            [
             0.6666666666666666,
             "#ed7953"
            ],
            [
             0.7777777777777778,
             "#fb9f3a"
            ],
            [
             0.8888888888888888,
             "#fdca26"
            ],
            [
             1,
             "#f0f921"
            ]
           ],
           "sequentialminus": [
            [
             0,
             "#0d0887"
            ],
            [
             0.1111111111111111,
             "#46039f"
            ],
            [
             0.2222222222222222,
             "#7201a8"
            ],
            [
             0.3333333333333333,
             "#9c179e"
            ],
            [
             0.4444444444444444,
             "#bd3786"
            ],
            [
             0.5555555555555556,
             "#d8576b"
            ],
            [
             0.6666666666666666,
             "#ed7953"
            ],
            [
             0.7777777777777778,
             "#fb9f3a"
            ],
            [
             0.8888888888888888,
             "#fdca26"
            ],
            [
             1,
             "#f0f921"
            ]
           ]
          },
          "colorway": [
           "#636efa",
           "#EF553B",
           "#00cc96",
           "#ab63fa",
           "#FFA15A",
           "#19d3f3",
           "#FF6692",
           "#B6E880",
           "#FF97FF",
           "#FECB52"
          ],
          "font": {
           "color": "#f2f5fa"
          },
          "geo": {
           "bgcolor": "rgb(17,17,17)",
           "lakecolor": "rgb(17,17,17)",
           "landcolor": "rgb(17,17,17)",
           "showlakes": true,
           "showland": true,
           "subunitcolor": "#506784"
          },
          "hoverlabel": {
           "align": "left"
          },
          "hovermode": "closest",
          "mapbox": {
           "style": "dark"
          },
          "paper_bgcolor": "rgb(17,17,17)",
          "plot_bgcolor": "rgb(17,17,17)",
          "polar": {
           "angularaxis": {
            "gridcolor": "#506784",
            "linecolor": "#506784",
            "ticks": ""
           },
           "bgcolor": "rgb(17,17,17)",
           "radialaxis": {
            "gridcolor": "#506784",
            "linecolor": "#506784",
            "ticks": ""
           }
          },
          "scene": {
           "xaxis": {
            "backgroundcolor": "rgb(17,17,17)",
            "gridcolor": "#506784",
            "gridwidth": 2,
            "linecolor": "#506784",
            "showbackground": true,
            "ticks": "",
            "zerolinecolor": "#C8D4E3"
           },
           "yaxis": {
            "backgroundcolor": "rgb(17,17,17)",
            "gridcolor": "#506784",
            "gridwidth": 2,
            "linecolor": "#506784",
            "showbackground": true,
            "ticks": "",
            "zerolinecolor": "#C8D4E3"
           },
           "zaxis": {
            "backgroundcolor": "rgb(17,17,17)",
            "gridcolor": "#506784",
            "gridwidth": 2,
            "linecolor": "#506784",
            "showbackground": true,
            "ticks": "",
            "zerolinecolor": "#C8D4E3"
           }
          },
          "shapedefaults": {
           "line": {
            "color": "#f2f5fa"
           }
          },
          "sliderdefaults": {
           "bgcolor": "#C8D4E3",
           "bordercolor": "rgb(17,17,17)",
           "borderwidth": 1,
           "tickwidth": 0
          },
          "ternary": {
           "aaxis": {
            "gridcolor": "#506784",
            "linecolor": "#506784",
            "ticks": ""
           },
           "baxis": {
            "gridcolor": "#506784",
            "linecolor": "#506784",
            "ticks": ""
           },
           "bgcolor": "rgb(17,17,17)",
           "caxis": {
            "gridcolor": "#506784",
            "linecolor": "#506784",
            "ticks": ""
           }
          },
          "title": {
           "x": 0.05
          },
          "updatemenudefaults": {
           "bgcolor": "#506784",
           "borderwidth": 0
          },
          "xaxis": {
           "automargin": true,
           "gridcolor": "#283442",
           "linecolor": "#506784",
           "ticks": "",
           "title": {
            "standoff": 15
           },
           "zerolinecolor": "#283442",
           "zerolinewidth": 2
          },
          "yaxis": {
           "automargin": true,
           "gridcolor": "#283442",
           "linecolor": "#506784",
           "ticks": "",
           "title": {
            "standoff": 15
           },
           "zerolinecolor": "#283442",
           "zerolinewidth": 2
          }
         }
        }
       }
      },
      "text/html": [
       "<div>                            <div id=\"442eff20-7b3c-4bb9-8aa2-3d044995d579\" class=\"plotly-graph-div\" style=\"height:525px; width:100%;\"></div>            <script type=\"text/javascript\">                require([\"plotly\"], function(Plotly) {                    window.PLOTLYENV=window.PLOTLYENV || {};                                    if (document.getElementById(\"442eff20-7b3c-4bb9-8aa2-3d044995d579\")) {                    Plotly.newPlot(                        \"442eff20-7b3c-4bb9-8aa2-3d044995d579\",                        [{\"customdata\": [[7856605, 215887, 3124593, \"US\"], [7175880, 109856, 6227295, \"India\"], [5113628, 150998, 4526393, \"Brazil\"], [1318783, 22834, 1027348, \"Russia\"], [924098, 28141, 806703, \"Colombia\"], [917035, 24572, 742235, \"Argentina\"], [896086, 33204, 150376, \"Spain\"], [853974, 33419, 748097, \"Peru\"], [825340, 84420, 703457, \"Mexico\"], [798257, 32982, 105203, \"France\"], [694537, 18028, 625574, \"South Africa\"], [637708, 43108, 2535, \"United Kingdom\"], [508389, 29070, 411840, \"Iran\"], [484280, 13396, 456499, \"Chile\"], [409358, 9970, 344208, \"Iraq\"], [381275, 5577, 295873, \"Bangladesh\"], [365467, 36246, 242028, \"Italy\"], [344713, 6372, 293383, \"Philippines\"], [340622, 12027, 263296, \"Indonesia\"], [340089, 5087, 326339, \"Saudi Arabia\"], [338779, 8957, 296972, \"Turkey\"], [337314, 9682, 280533, \"Germany\"], [320463, 6601, 305080, \"Pakistan\"], [296652, 2055, 245811, \"Israel\"], [277982, 5254, 120999, \"Ukraine\"], [194591, 6689, 4915, \"Netherlands\"], [189489, 9707, 160223, \"Canada\"], [173240, 10244, 20452, \"Belgium\"], [160461, 5535, 120515, \"Romania\"], [156946, 2685, 131462, \"Morocco\"], [148171, 12235, 128134, \"Ecuador\"], [138922, 8351, 102083, \"Bolivia\"], [135278, 3101, 82004, \"Poland\"], [129747, 1106, 59901, \"Czechia\"], [128405, 220, 125373, \"Qatar\"], [121296, 2511, 97297, \"Panama\"], [119008, 2183, 94941, \"Dominican Republic\"], [115358, 663, 78780, \"Nepal\"], [112737, 672, 104508, \"Kuwait\"], [108984, 1768, 104346, \"Kazakhstan\"], [108608, 448, 100007, \"United Arab Emirates\"], [107213, 1053, 93557, \"Oman\"], [104787, 6071, 97841, \"Egypt\"], [100654, 5899, 0, \"Sweden\"], [98380, 3410, 87744, \"Guatemala\"], [90858, 4739, 85707, \"China\"], [90238, 1124, 53670, \"Costa Rica\"], [90153, 1635, 82063, \"Japan\"], [89121, 2110, 54047, \"Portugal\"], [85718, 1305, 39307, \"Ethiopia\"], [84852, 2528, 32772, \"Honduras\"], [84524, 906, 77797, \"Belarus\"], [84391, 710, 76262, \"Venezuela\"], [76272, 285, 72164, \"Bahrain\"], [65881, 2103, 49800, \"Switzerland\"], [63275, 1495, 45102, \"Moldova\"], [61642, 511, 58613, \"Uzbekistan\"], [60655, 1116, 52006, \"Nigeria\"], [57884, 28, 57740, \"Singapore\"], [57566, 1032, 46318, \"Armenia\"], [57326, 861, 44949, \"Austria\"], [55869, 479, 24581, \"Lebanon\"], [53399, 1818, 37492, \"Algeria\"], [51197, 1108, 33325, \"Paraguay\"], [49871, 1092, 44712, \"Kyrgyzstan\"], [47126, 310, 46469, \"Ghana\"], [45200, 391, 38841, \"West Bank and Gaza\"], [44985, 656, 25007, \"Libya\"], [44159, 1830, 23364, \"Ireland\"], [42381, 612, 39468, \"Azerbaijan\"], [41937, 787, 31340, \"Kenya\"], [39928, 1480, 33308, \"Afghanistan\"], [39862, 996, 11753, \"Hungary\"], [35006, 767, 0, \"Serbia\"], [33594, 674, 27704, \"Denmark\"], [32556, 478, 5032, \"Tunisia\"], [31173, 947, 23777, \"Bosnia and Herzegovina\"], [30480, 899, 25857, \"El Salvador\"], [30437, 693, 11769, \"Burma\"], [28127, 225, 6361, \"Jordan\"], [27337, 904, 25046, \"Australia\"], [25774, 923, 16139, \"Bulgaria\"], [24889, 438, 23030, \"Korea, South\"], [23060, 462, 1347, \"Greece\"], [21203, 423, 20117, \"Cameroon\"], [21193, 800, 16397, \"North Macedonia\"], [20993, 330, 17889, \"Croatia\"], [20886, 61, 6388, \"Slovakia\"], [20183, 120, 19860, \"Cote d'Ivoire\"], [16880, 163, 11372, \"Malaysia\"], [16754, 237, 16124, \"Madagascar\"], [16345, 649, 14405, \"Kosovo\"], [15793, 277, 11863, \"Norway\"], [15752, 429, 9675, \"Albania\"], [15587, 345, 14783, \"Zambia\"], [15307, 315, 13508, \"Senegal\"], [14268, 213, 10063, \"Montenegro\"], [13691, 836, 6764, \"Sudan\"], [12841, 102, 6867, \"Georgia\"], [12499, 346, 8500, \"Finland\"], [12000, 129, 10120, \"Namibia\"], [11134, 70, 10347, \"Guinea\"], [10993, 35, 9833, \"Maldives\"], [10872, 276, 10249, \"Congo (Kinshasa)\"], [10297, 79, 9177, \"Tajikistan\"], [10258, 73, 7880, \"Mozambique\"], [9945, 95, 6347, \"Uganda\"], [9231, 173, 5314, \"Slovenia\"], [9119, 128, 7900, \"Luxembourg\"], [8887, 230, 7140, \"Haiti\"], [8860, 54, 8298, \"Gabon\"], [8036, 230, 7632, \"Zimbabwe\"], [7910, 146, 3303, \"Jamaica\"], [7565, 163, 7301, \"Mauritania\"], [7254, 77, 6210, \"Cabo Verde\"], [6680, 222, 2761, \"Angola\"], [6366, 106, 2842, \"Lithuania\"], [6017, 123, 5602, \"Cuba\"], [5827, 181, 4688, \"Malawi\"], [5696, 114, 5337, \"Eswatini\"], [5428, 61, 5362, \"Djibouti\"], [5353, 154, 4225, \"Nicaragua\"], [5163, 108, 2978, \"Bahamas\"], [5127, 93, 3367, \"Trinidad and Tobago\"], [5118, 90, 3887, \"Congo (Brazzaville)\"], [5072, 107, 4870, \"Suriname\"], [5066, 83, 4954, \"Equatorial Guinea\"], [5038, 13, 3328, \"Sri Lanka\"], [4908, 32, 4130, \"Rwanda\"], [4854, 62, 1924, \"Central African Republic\"], [4826, 231, 1364, \"Syria\"], [3937, 44, 3012, \"Malta\"], [3908, 68, 3015, \"Estonia\"], [3864, 99, 3089, \"Somalia\"], [3668, 10, 2587, \"Iceland\"], [3652, 59, 3457, \"Thailand\"], [3636, 118, 2593, \"Gambia\"], [3565, 106, 2435, \"Guyana\"], [3515, 20, 853, \"Botswana\"], [3297, 132, 2544, \"Mali\"], [2995, 57, 1928, \"Andorra\"], [2840, 41, 1325, \"Latvia\"], [2798, 55, 1290, \"South Sudan\"], [2585, 39, 1580, \"Belize\"], [2411, 41, 1973, \"Benin\"], [2389, 41, 1782, \"Guinea-Bissau\"], [2337, 51, 1987, \"Uruguay\"], [2309, 72, 1738, \"Sierra Leone\"], [2305, 63, 1581, \"Burkina Faso\"], [2130, 25, 1444, \"Cyprus\"], [2053, 596, 1329, \"Yemen\"], [1972, 50, 1465, \"Togo\"], [1874, 25, 1809, \"New Zealand\"], [1822, 42, 961, \"Lesotho\"], [1371, 82, 1251, \"Liberia\"], [1321, 92, 1120, \"Chad\"], [1203, 69, 1124, \"Niger\"], [1113, 35, 1025, \"Vietnam\"], [929, 15, 895, \"Sao Tome and Principe\"], [741, 42, 682, \"San Marino\"], [712, 13, 659, \"Diamond Princess\"], [565, 7, 537, \"Papua New Guinea\"], [530, 7, 489, \"Taiwan*\"], [529, 1, 472, \"Burundi\"], [509, 21, 183, \"Tanzania\"], [496, 7, 484, \"Comoros\"], [414, 0, 372, \"Eritrea\"], [407, 10, 361, \"Mauritius\"], [320, 0, 311, \"Mongolia\"], [313, 0, 293, \"Bhutan\"], [283, 0, 278, \"Cambodia\"], [241, 2, 217, \"Monaco\"], [210, 7, 187, \"Barbados\"], [163, 1, 128, \"Liechtenstein\"], [148, 0, 144, \"Seychelles\"], [146, 3, 143, \"Brunei\"], [111, 3, 97, \"Antigua and Barbuda\"], [64, 0, 64, \"Saint Vincent and the Grenadines\"], [32, 0, 24, \"Dominica\"], [32, 2, 30, \"Fiji\"], [29, 0, 27, \"Saint Lucia\"], [29, 0, 28, \"Timor-Leste\"], [25, 0, 24, \"Grenada\"], [23, 0, 22, \"Laos\"], [19, 0, 12, \"Holy See\"], [19, 0, 19, \"Saint Kitts and Nevis\"], [10, 1, 8, \"Western Sahara\"], [9, 2, 0, \"MS Zaandam\"], [2, 0, 0, \"Solomon Islands\"]], \"geo\": \"geo\", \"hovertemplate\": \"<b>%{hovertext}</b><br><br>Confirmed=%{marker.color:,2f}<br>Deaths=%{customdata[1]:,2f}<br>Recovered=%{customdata[2]:,2f}<extra></extra>\", \"hovertext\": [\"US\", \"India\", \"Brazil\", \"Russia\", \"Colombia\", \"Argentina\", \"Spain\", \"Peru\", \"Mexico\", \"France\", \"South Africa\", \"United Kingdom\", \"Iran\", \"Chile\", \"Iraq\", \"Bangladesh\", \"Italy\", \"Philippines\", \"Indonesia\", \"Saudi Arabia\", \"Turkey\", \"Germany\", \"Pakistan\", \"Israel\", \"Ukraine\", \"Netherlands\", \"Canada\", \"Belgium\", \"Romania\", \"Morocco\", \"Ecuador\", \"Bolivia\", \"Poland\", \"Czechia\", \"Qatar\", \"Panama\", \"Dominican Republic\", \"Nepal\", \"Kuwait\", \"Kazakhstan\", \"United Arab Emirates\", \"Oman\", \"Egypt\", \"Sweden\", \"Guatemala\", \"China\", \"Costa Rica\", \"Japan\", \"Portugal\", \"Ethiopia\", \"Honduras\", \"Belarus\", \"Venezuela\", \"Bahrain\", \"Switzerland\", \"Moldova\", \"Uzbekistan\", \"Nigeria\", \"Singapore\", \"Armenia\", \"Austria\", \"Lebanon\", \"Algeria\", \"Paraguay\", \"Kyrgyzstan\", \"Ghana\", \"West Bank and Gaza\", \"Libya\", \"Ireland\", \"Azerbaijan\", \"Kenya\", \"Afghanistan\", \"Hungary\", \"Serbia\", \"Denmark\", \"Tunisia\", \"Bosnia and Herzegovina\", \"El Salvador\", \"Burma\", \"Jordan\", \"Australia\", \"Bulgaria\", \"Korea, South\", \"Greece\", \"Cameroon\", \"North Macedonia\", \"Croatia\", \"Slovakia\", \"Cote d'Ivoire\", \"Malaysia\", \"Madagascar\", \"Kosovo\", \"Norway\", \"Albania\", \"Zambia\", \"Senegal\", \"Montenegro\", \"Sudan\", \"Georgia\", \"Finland\", \"Namibia\", \"Guinea\", \"Maldives\", \"Congo (Kinshasa)\", \"Tajikistan\", \"Mozambique\", \"Uganda\", \"Slovenia\", \"Luxembourg\", \"Haiti\", \"Gabon\", \"Zimbabwe\", \"Jamaica\", \"Mauritania\", \"Cabo Verde\", \"Angola\", \"Lithuania\", \"Cuba\", \"Malawi\", \"Eswatini\", \"Djibouti\", \"Nicaragua\", \"Bahamas\", \"Trinidad and Tobago\", \"Congo (Brazzaville)\", \"Suriname\", \"Equatorial Guinea\", \"Sri Lanka\", \"Rwanda\", \"Central African Republic\", \"Syria\", \"Malta\", \"Estonia\", \"Somalia\", \"Iceland\", \"Thailand\", \"Gambia\", \"Guyana\", \"Botswana\", \"Mali\", \"Andorra\", \"Latvia\", \"South Sudan\", \"Belize\", \"Benin\", \"Guinea-Bissau\", \"Uruguay\", \"Sierra Leone\", \"Burkina Faso\", \"Cyprus\", \"Yemen\", \"Togo\", \"New Zealand\", \"Lesotho\", \"Liberia\", \"Chad\", \"Niger\", \"Vietnam\", \"Sao Tome and Principe\", \"San Marino\", \"Diamond Princess\", \"Papua New Guinea\", \"Taiwan*\", \"Burundi\", \"Tanzania\", \"Comoros\", \"Eritrea\", \"Mauritius\", \"Mongolia\", \"Bhutan\", \"Cambodia\", \"Monaco\", \"Barbados\", \"Liechtenstein\", \"Seychelles\", \"Brunei\", \"Antigua and Barbuda\", \"Saint Vincent and the Grenadines\", \"Dominica\", \"Fiji\", \"Saint Lucia\", \"Timor-Leste\", \"Grenada\", \"Laos\", \"Holy See\", \"Saint Kitts and Nevis\", \"Western Sahara\", \"MS Zaandam\", \"Solomon Islands\"], \"legendgroup\": \"\", \"locationmode\": \"country names\", \"locations\": [\"US\", \"India\", \"Brazil\", \"Russia\", \"Colombia\", \"Argentina\", \"Spain\", \"Peru\", \"Mexico\", \"France\", \"South Africa\", \"United Kingdom\", \"Iran\", \"Chile\", \"Iraq\", \"Bangladesh\", \"Italy\", \"Philippines\", \"Indonesia\", \"Saudi Arabia\", \"Turkey\", \"Germany\", \"Pakistan\", \"Israel\", \"Ukraine\", \"Netherlands\", \"Canada\", \"Belgium\", \"Romania\", \"Morocco\", \"Ecuador\", \"Bolivia\", \"Poland\", \"Czechia\", \"Qatar\", \"Panama\", \"Dominican Republic\", \"Nepal\", \"Kuwait\", \"Kazakhstan\", \"United Arab Emirates\", \"Oman\", \"Egypt\", \"Sweden\", \"Guatemala\", \"China\", \"Costa Rica\", \"Japan\", \"Portugal\", \"Ethiopia\", \"Honduras\", \"Belarus\", \"Venezuela\", \"Bahrain\", \"Switzerland\", \"Moldova\", \"Uzbekistan\", \"Nigeria\", \"Singapore\", \"Armenia\", \"Austria\", \"Lebanon\", \"Algeria\", \"Paraguay\", \"Kyrgyzstan\", \"Ghana\", \"West Bank and Gaza\", \"Libya\", \"Ireland\", \"Azerbaijan\", \"Kenya\", \"Afghanistan\", \"Hungary\", \"Serbia\", \"Denmark\", \"Tunisia\", \"Bosnia and Herzegovina\", \"El Salvador\", \"Burma\", \"Jordan\", \"Australia\", \"Bulgaria\", \"Korea, South\", \"Greece\", \"Cameroon\", \"North Macedonia\", \"Croatia\", \"Slovakia\", \"Cote d'Ivoire\", \"Malaysia\", \"Madagascar\", \"Kosovo\", \"Norway\", \"Albania\", \"Zambia\", \"Senegal\", \"Montenegro\", \"Sudan\", \"Georgia\", \"Finland\", \"Namibia\", \"Guinea\", \"Maldives\", \"Congo (Kinshasa)\", \"Tajikistan\", \"Mozambique\", \"Uganda\", \"Slovenia\", \"Luxembourg\", \"Haiti\", \"Gabon\", \"Zimbabwe\", \"Jamaica\", \"Mauritania\", \"Cabo Verde\", \"Angola\", \"Lithuania\", \"Cuba\", \"Malawi\", \"Eswatini\", \"Djibouti\", \"Nicaragua\", \"Bahamas\", \"Trinidad and Tobago\", \"Congo (Brazzaville)\", \"Suriname\", \"Equatorial Guinea\", \"Sri Lanka\", \"Rwanda\", \"Central African Republic\", \"Syria\", \"Malta\", \"Estonia\", \"Somalia\", \"Iceland\", \"Thailand\", \"Gambia\", \"Guyana\", \"Botswana\", \"Mali\", \"Andorra\", \"Latvia\", \"South Sudan\", \"Belize\", \"Benin\", \"Guinea-Bissau\", \"Uruguay\", \"Sierra Leone\", \"Burkina Faso\", \"Cyprus\", \"Yemen\", \"Togo\", \"New Zealand\", \"Lesotho\", \"Liberia\", \"Chad\", \"Niger\", \"Vietnam\", \"Sao Tome and Principe\", \"San Marino\", \"Diamond Princess\", \"Papua New Guinea\", \"Taiwan*\", \"Burundi\", \"Tanzania\", \"Comoros\", \"Eritrea\", \"Mauritius\", \"Mongolia\", \"Bhutan\", \"Cambodia\", \"Monaco\", \"Barbados\", \"Liechtenstein\", \"Seychelles\", \"Brunei\", \"Antigua and Barbuda\", \"Saint Vincent and the Grenadines\", \"Dominica\", \"Fiji\", \"Saint Lucia\", \"Timor-Leste\", \"Grenada\", \"Laos\", \"Holy See\", \"Saint Kitts and Nevis\", \"Western Sahara\", \"MS Zaandam\", \"Solomon Islands\"], \"marker\": {\"color\": [7856605, 7175880, 5113628, 1318783, 924098, 917035, 896086, 853974, 825340, 798257, 694537, 637708, 508389, 484280, 409358, 381275, 365467, 344713, 340622, 340089, 338779, 337314, 320463, 296652, 277982, 194591, 189489, 173240, 160461, 156946, 148171, 138922, 135278, 129747, 128405, 121296, 119008, 115358, 112737, 108984, 108608, 107213, 104787, 100654, 98380, 90858, 90238, 90153, 89121, 85718, 84852, 84524, 84391, 76272, 65881, 63275, 61642, 60655, 57884, 57566, 57326, 55869, 53399, 51197, 49871, 47126, 45200, 44985, 44159, 42381, 41937, 39928, 39862, 35006, 33594, 32556, 31173, 30480, 30437, 28127, 27337, 25774, 24889, 23060, 21203, 21193, 20993, 20886, 20183, 16880, 16754, 16345, 15793, 15752, 15587, 15307, 14268, 13691, 12841, 12499, 12000, 11134, 10993, 10872, 10297, 10258, 9945, 9231, 9119, 8887, 8860, 8036, 7910, 7565, 7254, 6680, 6366, 6017, 5827, 5696, 5428, 5353, 5163, 5127, 5118, 5072, 5066, 5038, 4908, 4854, 4826, 3937, 3908, 3864, 3668, 3652, 3636, 3565, 3515, 3297, 2995, 2840, 2798, 2585, 2411, 2389, 2337, 2309, 2305, 2130, 2053, 1972, 1874, 1822, 1371, 1321, 1203, 1113, 929, 741, 712, 565, 530, 529, 509, 496, 414, 407, 320, 313, 283, 241, 210, 163, 148, 146, 111, 64, 32, 32, 29, 29, 25, 23, 19, 19, 10, 9, 2], \"coloraxis\": \"coloraxis\", \"size\": [7856605, 7175880, 5113628, 1318783, 924098, 917035, 896086, 853974, 825340, 798257, 694537, 637708, 508389, 484280, 409358, 381275, 365467, 344713, 340622, 340089, 338779, 337314, 320463, 296652, 277982, 194591, 189489, 173240, 160461, 156946, 148171, 138922, 135278, 129747, 128405, 121296, 119008, 115358, 112737, 108984, 108608, 107213, 104787, 100654, 98380, 90858, 90238, 90153, 89121, 85718, 84852, 84524, 84391, 76272, 65881, 63275, 61642, 60655, 57884, 57566, 57326, 55869, 53399, 51197, 49871, 47126, 45200, 44985, 44159, 42381, 41937, 39928, 39862, 35006, 33594, 32556, 31173, 30480, 30437, 28127, 27337, 25774, 24889, 23060, 21203, 21193, 20993, 20886, 20183, 16880, 16754, 16345, 15793, 15752, 15587, 15307, 14268, 13691, 12841, 12499, 12000, 11134, 10993, 10872, 10297, 10258, 9945, 9231, 9119, 8887, 8860, 8036, 7910, 7565, 7254, 6680, 6366, 6017, 5827, 5696, 5428, 5353, 5163, 5127, 5118, 5072, 5066, 5038, 4908, 4854, 4826, 3937, 3908, 3864, 3668, 3652, 3636, 3565, 3515, 3297, 2995, 2840, 2798, 2585, 2411, 2389, 2337, 2309, 2305, 2130, 2053, 1972, 1874, 1822, 1371, 1321, 1203, 1113, 929, 741, 712, 565, 530, 529, 509, 496, 414, 407, 320, 313, 283, 241, 210, 163, 148, 146, 111, 64, 32, 32, 29, 29, 25, 23, 19, 19, 10, 9, 2], \"sizemode\": \"area\", \"sizeref\": 4910.378125}, \"name\": \"\", \"showlegend\": false, \"type\": \"scattergeo\"}],                        {\"coloraxis\": {\"colorbar\": {\"title\": {\"text\": \"Confirmed\"}}, \"colorscale\": [[0.0, \"#0d0887\"], [0.1111111111111111, \"#46039f\"], [0.2222222222222222, \"#7201a8\"], [0.3333333333333333, \"#9c179e\"], [0.4444444444444444, \"#bd3786\"], [0.5555555555555556, \"#d8576b\"], [0.6666666666666666, \"#ed7953\"], [0.7777777777777778, \"#fb9f3a\"], [0.8888888888888888, \"#fdca26\"], [1.0, \"#f0f921\"]]}, \"geo\": {\"center\": {}, \"domain\": {\"x\": [0.0, 1.0], \"y\": [0.0, 1.0]}}, \"legend\": {\"itemsizing\": \"constant\", \"tracegroupgap\": 0}, \"margin\": {\"t\": 60}, \"template\": {\"data\": {\"bar\": [{\"error_x\": {\"color\": \"#f2f5fa\"}, \"error_y\": {\"color\": \"#f2f5fa\"}, \"marker\": {\"line\": {\"color\": \"rgb(17,17,17)\", \"width\": 0.5}}, \"type\": \"bar\"}], \"barpolar\": [{\"marker\": {\"line\": {\"color\": \"rgb(17,17,17)\", \"width\": 0.5}}, \"type\": \"barpolar\"}], \"carpet\": [{\"aaxis\": {\"endlinecolor\": \"#A2B1C6\", \"gridcolor\": \"#506784\", \"linecolor\": \"#506784\", \"minorgridcolor\": \"#506784\", \"startlinecolor\": \"#A2B1C6\"}, \"baxis\": {\"endlinecolor\": \"#A2B1C6\", \"gridcolor\": \"#506784\", \"linecolor\": \"#506784\", \"minorgridcolor\": \"#506784\", \"startlinecolor\": \"#A2B1C6\"}, \"type\": \"carpet\"}], \"choropleth\": [{\"colorbar\": {\"outlinewidth\": 0, \"ticks\": \"\"}, \"type\": \"choropleth\"}], \"contour\": [{\"colorbar\": {\"outlinewidth\": 0, \"ticks\": \"\"}, \"colorscale\": [[0.0, \"#0d0887\"], [0.1111111111111111, \"#46039f\"], [0.2222222222222222, \"#7201a8\"], [0.3333333333333333, \"#9c179e\"], [0.4444444444444444, \"#bd3786\"], [0.5555555555555556, \"#d8576b\"], [0.6666666666666666, \"#ed7953\"], [0.7777777777777778, \"#fb9f3a\"], [0.8888888888888888, \"#fdca26\"], [1.0, \"#f0f921\"]], \"type\": \"contour\"}], \"contourcarpet\": [{\"colorbar\": {\"outlinewidth\": 0, \"ticks\": \"\"}, \"type\": \"contourcarpet\"}], \"heatmap\": [{\"colorbar\": {\"outlinewidth\": 0, \"ticks\": \"\"}, \"colorscale\": [[0.0, \"#0d0887\"], [0.1111111111111111, \"#46039f\"], [0.2222222222222222, \"#7201a8\"], [0.3333333333333333, \"#9c179e\"], [0.4444444444444444, \"#bd3786\"], [0.5555555555555556, \"#d8576b\"], [0.6666666666666666, \"#ed7953\"], [0.7777777777777778, \"#fb9f3a\"], [0.8888888888888888, \"#fdca26\"], [1.0, \"#f0f921\"]], \"type\": \"heatmap\"}], \"heatmapgl\": [{\"colorbar\": {\"outlinewidth\": 0, \"ticks\": \"\"}, \"colorscale\": [[0.0, \"#0d0887\"], [0.1111111111111111, \"#46039f\"], [0.2222222222222222, \"#7201a8\"], [0.3333333333333333, \"#9c179e\"], [0.4444444444444444, \"#bd3786\"], [0.5555555555555556, \"#d8576b\"], [0.6666666666666666, \"#ed7953\"], [0.7777777777777778, \"#fb9f3a\"], [0.8888888888888888, \"#fdca26\"], [1.0, \"#f0f921\"]], \"type\": \"heatmapgl\"}], \"histogram\": [{\"marker\": {\"colorbar\": {\"outlinewidth\": 0, \"ticks\": \"\"}}, \"type\": \"histogram\"}], \"histogram2d\": [{\"colorbar\": {\"outlinewidth\": 0, \"ticks\": \"\"}, \"colorscale\": [[0.0, \"#0d0887\"], [0.1111111111111111, \"#46039f\"], [0.2222222222222222, \"#7201a8\"], [0.3333333333333333, \"#9c179e\"], [0.4444444444444444, \"#bd3786\"], [0.5555555555555556, \"#d8576b\"], [0.6666666666666666, \"#ed7953\"], [0.7777777777777778, \"#fb9f3a\"], [0.8888888888888888, \"#fdca26\"], [1.0, \"#f0f921\"]], \"type\": \"histogram2d\"}], \"histogram2dcontour\": [{\"colorbar\": {\"outlinewidth\": 0, \"ticks\": \"\"}, \"colorscale\": [[0.0, \"#0d0887\"], [0.1111111111111111, \"#46039f\"], [0.2222222222222222, \"#7201a8\"], [0.3333333333333333, \"#9c179e\"], [0.4444444444444444, \"#bd3786\"], [0.5555555555555556, \"#d8576b\"], [0.6666666666666666, \"#ed7953\"], [0.7777777777777778, \"#fb9f3a\"], [0.8888888888888888, \"#fdca26\"], [1.0, \"#f0f921\"]], \"type\": \"histogram2dcontour\"}], \"mesh3d\": [{\"colorbar\": {\"outlinewidth\": 0, \"ticks\": \"\"}, \"type\": \"mesh3d\"}], \"parcoords\": [{\"line\": {\"colorbar\": {\"outlinewidth\": 0, \"ticks\": \"\"}}, \"type\": \"parcoords\"}], \"pie\": [{\"automargin\": true, \"type\": \"pie\"}], \"scatter\": [{\"marker\": {\"line\": {\"color\": \"#283442\"}}, \"type\": \"scatter\"}], \"scatter3d\": [{\"line\": {\"colorbar\": {\"outlinewidth\": 0, \"ticks\": \"\"}}, \"marker\": {\"colorbar\": {\"outlinewidth\": 0, \"ticks\": \"\"}}, \"type\": \"scatter3d\"}], \"scattercarpet\": [{\"marker\": {\"colorbar\": {\"outlinewidth\": 0, \"ticks\": \"\"}}, \"type\": \"scattercarpet\"}], \"scattergeo\": [{\"marker\": {\"colorbar\": {\"outlinewidth\": 0, \"ticks\": \"\"}}, \"type\": \"scattergeo\"}], \"scattergl\": [{\"marker\": {\"line\": {\"color\": \"#283442\"}}, \"type\": \"scattergl\"}], \"scattermapbox\": [{\"marker\": {\"colorbar\": {\"outlinewidth\": 0, \"ticks\": \"\"}}, \"type\": \"scattermapbox\"}], \"scatterpolar\": [{\"marker\": {\"colorbar\": {\"outlinewidth\": 0, \"ticks\": \"\"}}, \"type\": \"scatterpolar\"}], \"scatterpolargl\": [{\"marker\": {\"colorbar\": {\"outlinewidth\": 0, \"ticks\": \"\"}}, \"type\": \"scatterpolargl\"}], \"scatterternary\": [{\"marker\": {\"colorbar\": {\"outlinewidth\": 0, \"ticks\": \"\"}}, \"type\": \"scatterternary\"}], \"surface\": [{\"colorbar\": {\"outlinewidth\": 0, \"ticks\": \"\"}, \"colorscale\": [[0.0, \"#0d0887\"], [0.1111111111111111, \"#46039f\"], [0.2222222222222222, \"#7201a8\"], [0.3333333333333333, \"#9c179e\"], [0.4444444444444444, \"#bd3786\"], [0.5555555555555556, \"#d8576b\"], [0.6666666666666666, \"#ed7953\"], [0.7777777777777778, \"#fb9f3a\"], [0.8888888888888888, \"#fdca26\"], [1.0, \"#f0f921\"]], \"type\": \"surface\"}], \"table\": [{\"cells\": {\"fill\": {\"color\": \"#506784\"}, \"line\": {\"color\": \"rgb(17,17,17)\"}}, \"header\": {\"fill\": {\"color\": \"#2a3f5f\"}, \"line\": {\"color\": \"rgb(17,17,17)\"}}, \"type\": \"table\"}]}, \"layout\": {\"annotationdefaults\": {\"arrowcolor\": \"#f2f5fa\", \"arrowhead\": 0, \"arrowwidth\": 1}, \"coloraxis\": {\"colorbar\": {\"outlinewidth\": 0, \"ticks\": \"\"}}, \"colorscale\": {\"diverging\": [[0, \"#8e0152\"], [0.1, \"#c51b7d\"], [0.2, \"#de77ae\"], [0.3, \"#f1b6da\"], [0.4, \"#fde0ef\"], [0.5, \"#f7f7f7\"], [0.6, \"#e6f5d0\"], [0.7, \"#b8e186\"], [0.8, \"#7fbc41\"], [0.9, \"#4d9221\"], [1, \"#276419\"]], \"sequential\": [[0.0, \"#0d0887\"], [0.1111111111111111, \"#46039f\"], [0.2222222222222222, \"#7201a8\"], [0.3333333333333333, \"#9c179e\"], [0.4444444444444444, \"#bd3786\"], [0.5555555555555556, \"#d8576b\"], [0.6666666666666666, \"#ed7953\"], [0.7777777777777778, \"#fb9f3a\"], [0.8888888888888888, \"#fdca26\"], [1.0, \"#f0f921\"]], \"sequentialminus\": [[0.0, \"#0d0887\"], [0.1111111111111111, \"#46039f\"], [0.2222222222222222, \"#7201a8\"], [0.3333333333333333, \"#9c179e\"], [0.4444444444444444, \"#bd3786\"], [0.5555555555555556, \"#d8576b\"], [0.6666666666666666, \"#ed7953\"], [0.7777777777777778, \"#fb9f3a\"], [0.8888888888888888, \"#fdca26\"], [1.0, \"#f0f921\"]]}, \"colorway\": [\"#636efa\", \"#EF553B\", \"#00cc96\", \"#ab63fa\", \"#FFA15A\", \"#19d3f3\", \"#FF6692\", \"#B6E880\", \"#FF97FF\", \"#FECB52\"], \"font\": {\"color\": \"#f2f5fa\"}, \"geo\": {\"bgcolor\": \"rgb(17,17,17)\", \"lakecolor\": \"rgb(17,17,17)\", \"landcolor\": \"rgb(17,17,17)\", \"showlakes\": true, \"showland\": true, \"subunitcolor\": \"#506784\"}, \"hoverlabel\": {\"align\": \"left\"}, \"hovermode\": \"closest\", \"mapbox\": {\"style\": \"dark\"}, \"paper_bgcolor\": \"rgb(17,17,17)\", \"plot_bgcolor\": \"rgb(17,17,17)\", \"polar\": {\"angularaxis\": {\"gridcolor\": \"#506784\", \"linecolor\": \"#506784\", \"ticks\": \"\"}, \"bgcolor\": \"rgb(17,17,17)\", \"radialaxis\": {\"gridcolor\": \"#506784\", \"linecolor\": \"#506784\", \"ticks\": \"\"}}, \"scene\": {\"xaxis\": {\"backgroundcolor\": \"rgb(17,17,17)\", \"gridcolor\": \"#506784\", \"gridwidth\": 2, \"linecolor\": \"#506784\", \"showbackground\": true, \"ticks\": \"\", \"zerolinecolor\": \"#C8D4E3\"}, \"yaxis\": {\"backgroundcolor\": \"rgb(17,17,17)\", \"gridcolor\": \"#506784\", \"gridwidth\": 2, \"linecolor\": \"#506784\", \"showbackground\": true, \"ticks\": \"\", \"zerolinecolor\": \"#C8D4E3\"}, \"zaxis\": {\"backgroundcolor\": \"rgb(17,17,17)\", \"gridcolor\": \"#506784\", \"gridwidth\": 2, \"linecolor\": \"#506784\", \"showbackground\": true, \"ticks\": \"\", \"zerolinecolor\": \"#C8D4E3\"}}, \"shapedefaults\": {\"line\": {\"color\": \"#f2f5fa\"}}, \"sliderdefaults\": {\"bgcolor\": \"#C8D4E3\", \"bordercolor\": \"rgb(17,17,17)\", \"borderwidth\": 1, \"tickwidth\": 0}, \"ternary\": {\"aaxis\": {\"gridcolor\": \"#506784\", \"linecolor\": \"#506784\", \"ticks\": \"\"}, \"baxis\": {\"gridcolor\": \"#506784\", \"linecolor\": \"#506784\", \"ticks\": \"\"}, \"bgcolor\": \"rgb(17,17,17)\", \"caxis\": {\"gridcolor\": \"#506784\", \"linecolor\": \"#506784\", \"ticks\": \"\"}}, \"title\": {\"x\": 0.05}, \"updatemenudefaults\": {\"bgcolor\": \"#506784\", \"borderwidth\": 0}, \"xaxis\": {\"automargin\": true, \"gridcolor\": \"#283442\", \"linecolor\": \"#506784\", \"ticks\": \"\", \"title\": {\"standoff\": 15}, \"zerolinecolor\": \"#283442\", \"zerolinewidth\": 2}, \"yaxis\": {\"automargin\": true, \"gridcolor\": \"#283442\", \"linecolor\": \"#506784\", \"ticks\": \"\", \"title\": {\"standoff\": 15}, \"zerolinecolor\": \"#283442\", \"zerolinewidth\": 2}}}},                        {\"responsive\": true}                    ).then(function(){\n",
       "                            \n",
       "var gd = document.getElementById('442eff20-7b3c-4bb9-8aa2-3d044995d579');\n",
       "var x = new MutationObserver(function (mutations, observer) {{\n",
       "        var display = window.getComputedStyle(gd).display;\n",
       "        if (!display || display === 'none') {{\n",
       "            console.log([gd, 'removed!']);\n",
       "            Plotly.purge(gd);\n",
       "            observer.disconnect();\n",
       "        }}\n",
       "}});\n",
       "\n",
       "// Listen for the removal of the full notebook cells\n",
       "var notebookContainer = gd.closest('#notebook-container');\n",
       "if (notebookContainer) {{\n",
       "    x.observe(notebookContainer, {childList: true});\n",
       "}}\n",
       "\n",
       "// Listen for the clearing of the current output cell\n",
       "var outputEl = gd.closest('.output');\n",
       "if (outputEl) {{\n",
       "    x.observe(outputEl, {childList: true});\n",
       "}}\n",
       "\n",
       "                        })                };                });            </script>        </div>"
      ]
     },
     "metadata": {},
     "output_type": "display_data"
    }
   ],
   "source": [
    "import plotly.express as px\n",
    "from data import countries_df\n",
    "\n",
    "\n",
    "fig = px.scatter_geo(countries_df,\n",
    "size=\"Confirmed\",\n",
    "hover_name=\"Country_Region\",\n",
    "size_max=40,\n",
    "template=\"plotly_dark\",\n",
    "hover_data={\n",
    "\"Confirmed\":\":,2f\",\n",
    "\"Deaths\":\":,2f\",\n",
    "\"Recovered\":\":,2f\",\n",
    "\"Country_Region\":False\n",
    "}, color=\"Confirmed\", \n",
    "    locations=\"Country_Region\",\n",
    "    locationmode=\"country names\")\n",
    "fig.show()"
   ]
  }
 ],
 "metadata": {
  "kernelspec": {
   "display_name": "Python 3",
   "language": "python",
   "name": "python3"
  },
  "language_info": {
   "codemirror_mode": {
    "name": "ipython",
    "version": 3
   },
   "file_extension": ".py",
   "mimetype": "text/x-python",
   "name": "python",
   "nbconvert_exporter": "python",
   "pygments_lexer": "ipython3",
   "version": "3.8.3"
  }
 },
 "nbformat": 4,
 "nbformat_minor": 4
}
