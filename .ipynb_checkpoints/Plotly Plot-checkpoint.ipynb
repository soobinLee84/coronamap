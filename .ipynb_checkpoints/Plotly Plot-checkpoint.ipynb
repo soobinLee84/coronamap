{
 "cells": [
  {
   "cell_type": "code",
   "execution_count": 25,
   "metadata": {
    "scrolled": false
   },
   "outputs": [
    {
     "ename": "SyntaxError",
     "evalue": "invalid syntax (<ipython-input-25-33c5753f9c78>, line 15)",
     "output_type": "error",
     "traceback": [
      "\u001b[1;36m  File \u001b[1;32m\"<ipython-input-25-33c5753f9c78>\"\u001b[1;36m, line \u001b[1;32m15\u001b[0m\n\u001b[1;33m    color=\"Confirmed\",\u001b[0m\n\u001b[1;37m         ^\u001b[0m\n\u001b[1;31mSyntaxError\u001b[0m\u001b[1;31m:\u001b[0m invalid syntax\n"
     ]
    }
   ],
   "source": [
    "import plotly.express as px\n",
    "from data import countries_df\n",
    "\n",
    "\n",
    "fig = px.scatter_geo(countries_df,\n",
    "size=\"Confirmed\",\n",
    "hover_name=\"Country_Region\",\n",
    "size_max=40,\n",
    "template=\"plotly_dark\",\n",
    "hover_data={\n",
    "\"Confirmed\":\":,2f\",\n",
    "\"Deaths\":\":,2f\",\n",
    "\"Recovered\":\":,2f\",\n",
    "\"Country_Region\":False\n",
    "}, color=\"Confirmed\", \n",
    "    locations=\"Country_Region\",\n",
    "    locationmode=\"country names\")\n",
    "fig.show()"
   ]
  }
 ],
 "metadata": {
  "kernelspec": {
   "display_name": "Python 3",
   "language": "python",
   "name": "python3"
  },
  "language_info": {
   "codemirror_mode": {
    "name": "ipython",
    "version": 3
   },
   "file_extension": ".py",
   "mimetype": "text/x-python",
   "name": "python",
   "nbconvert_exporter": "python",
   "pygments_lexer": "ipython3",
   "version": "3.8.3"
  }
 },
 "nbformat": 4,
 "nbformat_minor": 4
}
